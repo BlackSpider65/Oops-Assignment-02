{
 "cells": [
  {
   "cell_type": "markdown",
   "id": "24894153",
   "metadata": {},
   "source": [
    "### Question No :- 01 "
   ]
  },
  {
   "cell_type": "markdown",
   "id": "80e5e12c",
   "metadata": {},
   "source": [
    "In object-oriented programming (OOP), a class is a blueprint or template that defines the properties and behavior of objects. It serves as a blueprint for creating instances, also known as objects, which are specific instances of that class. In simpler terms, a class defines the structure and behavior that objects of that class will have.\n",
    "\n",
    "An object, on the other hand, is a specific instance of a class. It represents a real-world entity or concept and encapsulates both data (properties or attributes) and the actions (methods or behaviors) that can be performed on that data. Objects are created based on the class definition and can interact with each other to achieve specific tasks."
   ]
  },
  {
   "cell_type": "code",
   "execution_count": 1,
   "id": "9ad8e84a",
   "metadata": {},
   "outputs": [],
   "source": [
    "# Example\n",
    "\n",
    "class test:\n",
    "    \n",
    "    def math_test(self):\n",
    "        print(\"this func is represent the math_test\")\n",
    "        \n",
    "    def physics_test(self):\n",
    "        print(\"this func is represent the physics_test\")"
   ]
  },
  {
   "cell_type": "code",
   "execution_count": 2,
   "id": "eb189219",
   "metadata": {},
   "outputs": [],
   "source": [
    "test_object = test()"
   ]
  },
  {
   "cell_type": "code",
   "execution_count": 4,
   "id": "be352190",
   "metadata": {},
   "outputs": [
    {
     "name": "stdout",
     "output_type": "stream",
     "text": [
      "this func is represent the math_test\n"
     ]
    }
   ],
   "source": [
    "test_object.math_test()"
   ]
  },
  {
   "cell_type": "code",
   "execution_count": 5,
   "id": "b673c0c9",
   "metadata": {},
   "outputs": [
    {
     "name": "stdout",
     "output_type": "stream",
     "text": [
      "this func is represent the physics_test\n"
     ]
    }
   ],
   "source": [
    "test_object.physics_test()"
   ]
  },
  {
   "cell_type": "markdown",
   "id": "08b6a7b2",
   "metadata": {},
   "source": [
    "### Question no :- 02"
   ]
  },
  {
   "cell_type": "markdown",
   "id": "9831d8a9",
   "metadata": {},
   "source": [
    "The four pillers of oops are-\n",
    "1} Encapsulation \n",
    "2} Inheritance\n",
    "3} Polymorphism\n",
    "4} Abstraction"
   ]
  },
  {
   "cell_type": "markdown",
   "id": "cc9b55bb",
   "metadata": {},
   "source": [
    "### Question no :- 03"
   ]
  },
  {
   "cell_type": "markdown",
   "id": "76c7b527",
   "metadata": {},
   "source": [
    "The __init__() function is a special method in Python classes that is used for initializing the newly created object. It is also known as a constructor because it is automatically called when an object is instantiated from a class. "
   ]
  },
  {
   "cell_type": "code",
   "execution_count": 8,
   "id": "386c03da",
   "metadata": {},
   "outputs": [],
   "source": [
    "# Example \n",
    "\n",
    "class person:\n",
    "    \n",
    "    def __init__(self , name , age):\n",
    "        self.name = name\n",
    "        self.age = age \n",
    "    \n",
    "    def person_detial(self):\n",
    "        print(f\"person name is {self.name} and person age is {self.age}\")"
   ]
  },
  {
   "cell_type": "code",
   "execution_count": 9,
   "id": "fa590506",
   "metadata": {},
   "outputs": [],
   "source": [
    "person_object = person('vishal' , 20)"
   ]
  },
  {
   "cell_type": "code",
   "execution_count": 11,
   "id": "ae86497a",
   "metadata": {},
   "outputs": [
    {
     "name": "stdout",
     "output_type": "stream",
     "text": [
      "person name is vishal and person age is 20\n"
     ]
    }
   ],
   "source": [
    "person_object.person_detial()"
   ]
  },
  {
   "cell_type": "code",
   "execution_count": 12,
   "id": "58e36f38",
   "metadata": {},
   "outputs": [
    {
     "data": {
      "text/plain": [
       "'vishal'"
      ]
     },
     "execution_count": 12,
     "metadata": {},
     "output_type": "execute_result"
    }
   ],
   "source": [
    "person_object.name"
   ]
  },
  {
   "cell_type": "markdown",
   "id": "cf964bb7",
   "metadata": {},
   "source": [
    "### Question no :- 04"
   ]
  },
  {
   "cell_type": "markdown",
   "id": "fea87a82",
   "metadata": {},
   "source": [
    "In object-oriented programming (OOP), self is a conventional name used as the first parameter in method definitions within a class. It refers to the instance of the object that is being operated on or accessed. The purpose of using self is to explicitly reference and manipulate the attributes and methods of the current object."
   ]
  },
  {
   "cell_type": "markdown",
   "id": "c8676d47",
   "metadata": {},
   "source": [
    "### Question no :- 05"
   ]
  },
  {
   "cell_type": "markdown",
   "id": "c3a84fa6",
   "metadata": {},
   "source": [
    "Inheritance is a fundamental concept in object-oriented programming (OOP) that allows a class to inherit the properties and behaviors of another class. The class that inherits is called the subclass or derived class, and the class from which it inherits is called the superclass or base class. Inheritance promotes code reuse, modularity, and establishes a hierarchical relationship between classes."
   ]
  },
  {
   "cell_type": "markdown",
   "id": "c649b47c",
   "metadata": {},
   "source": [
    "### Single Inheritance"
   ]
  },
  {
   "cell_type": "code",
   "execution_count": 13,
   "id": "33fcf892",
   "metadata": {},
   "outputs": [],
   "source": [
    "class friends:\n",
    "    \n",
    "    def __init__(self , name):\n",
    "        self.name = name\n",
    "    \n",
    "    def friend_name(self):\n",
    "        return self.name"
   ]
  },
  {
   "cell_type": "code",
   "execution_count": 14,
   "id": "76895cde",
   "metadata": {},
   "outputs": [],
   "source": [
    "class sunny(friends):\n",
    "    \n",
    "    def sunny_func(self):\n",
    "        return  \"this is sunny function\""
   ]
  },
  {
   "cell_type": "code",
   "execution_count": 16,
   "id": "f6a13091",
   "metadata": {},
   "outputs": [],
   "source": [
    "sunny_object = sunny('vishal') "
   ]
  },
  {
   "cell_type": "code",
   "execution_count": 17,
   "id": "a6eee211",
   "metadata": {},
   "outputs": [
    {
     "data": {
      "text/plain": [
       "'vishal'"
      ]
     },
     "execution_count": 17,
     "metadata": {},
     "output_type": "execute_result"
    }
   ],
   "source": [
    "sunny_object.friend_name()"
   ]
  },
  {
   "cell_type": "code",
   "execution_count": 18,
   "id": "7bf68fba",
   "metadata": {},
   "outputs": [
    {
     "data": {
      "text/plain": [
       "'this is sunny function'"
      ]
     },
     "execution_count": 18,
     "metadata": {},
     "output_type": "execute_result"
    }
   ],
   "source": [
    "sunny_object.sunny_func()"
   ]
  },
  {
   "cell_type": "markdown",
   "id": "e40c947c",
   "metadata": {},
   "source": [
    "### Multiple Inheritance"
   ]
  },
  {
   "cell_type": "code",
   "execution_count": 19,
   "id": "847a61a9",
   "metadata": {},
   "outputs": [],
   "source": [
    "class math:\n",
    "    \n",
    "    def test_math(self):\n",
    "        return \"this method is test_math\""
   ]
  },
  {
   "cell_type": "code",
   "execution_count": 20,
   "id": "cf06a075",
   "metadata": {},
   "outputs": [],
   "source": [
    "class physics:\n",
    "    \n",
    "    def physice_test(self):\n",
    "        return \"this method is physics_test\""
   ]
  },
  {
   "cell_type": "code",
   "execution_count": 21,
   "id": "648b3a5e",
   "metadata": {},
   "outputs": [],
   "source": [
    "class science(math , physics):\n",
    "    \n",
    "    def science_test(self):\n",
    "        return \"this method is science_test\""
   ]
  },
  {
   "cell_type": "code",
   "execution_count": 22,
   "id": "6b2daa47",
   "metadata": {},
   "outputs": [],
   "source": [
    "science_object = science()"
   ]
  },
  {
   "cell_type": "code",
   "execution_count": 23,
   "id": "35ed5c1e",
   "metadata": {},
   "outputs": [
    {
     "data": {
      "text/plain": [
       "'this method is test_math'"
      ]
     },
     "execution_count": 23,
     "metadata": {},
     "output_type": "execute_result"
    }
   ],
   "source": [
    "science_object.test_math()"
   ]
  },
  {
   "cell_type": "code",
   "execution_count": 24,
   "id": "e069d904",
   "metadata": {},
   "outputs": [
    {
     "data": {
      "text/plain": [
       "'this method is physics_test'"
      ]
     },
     "execution_count": 24,
     "metadata": {},
     "output_type": "execute_result"
    }
   ],
   "source": [
    "science_object.physice_test()"
   ]
  },
  {
   "cell_type": "markdown",
   "id": "a0999e4a",
   "metadata": {},
   "source": [
    "### Multilevel Inheritance"
   ]
  },
  {
   "cell_type": "code",
   "execution_count": 25,
   "id": "33c7ee38",
   "metadata": {},
   "outputs": [],
   "source": [
    "class bijendra:\n",
    "    \n",
    "    def bijender_meth(self):\n",
    "        return \"this method is bijendra class\""
   ]
  },
  {
   "cell_type": "code",
   "execution_count": 26,
   "id": "03657708",
   "metadata": {},
   "outputs": [],
   "source": [
    "class kumar(bijendra):\n",
    "    \n",
    "    def kumar_meth(self):\n",
    "        return \"this method is kumar class\""
   ]
  },
  {
   "cell_type": "code",
   "execution_count": 27,
   "id": "a2f4c191",
   "metadata": {},
   "outputs": [],
   "source": [
    "class shukla(kumar):\n",
    "    \n",
    "    def shukla_meth(self):\n",
    "        return \"this method is shukla class\""
   ]
  },
  {
   "cell_type": "code",
   "execution_count": 28,
   "id": "911427cf",
   "metadata": {},
   "outputs": [],
   "source": [
    "shukla_object = shukla()"
   ]
  },
  {
   "cell_type": "code",
   "execution_count": 29,
   "id": "cb3fe645",
   "metadata": {},
   "outputs": [
    {
     "data": {
      "text/plain": [
       "'this method is kumar class'"
      ]
     },
     "execution_count": 29,
     "metadata": {},
     "output_type": "execute_result"
    }
   ],
   "source": [
    "shukla_object.kumar_meth()"
   ]
  },
  {
   "cell_type": "code",
   "execution_count": 30,
   "id": "b82452cb",
   "metadata": {},
   "outputs": [
    {
     "data": {
      "text/plain": [
       "'this method is bijendra class'"
      ]
     },
     "execution_count": 30,
     "metadata": {},
     "output_type": "execute_result"
    }
   ],
   "source": [
    "shukla_object.bijender_meth()"
   ]
  },
  {
   "cell_type": "markdown",
   "id": "8485a14f",
   "metadata": {},
   "source": [
    "### Hierarchical Inheritance"
   ]
  },
  {
   "cell_type": "code",
   "execution_count": 32,
   "id": "a14704f3",
   "metadata": {},
   "outputs": [],
   "source": [
    "class girl_friend:\n",
    "    \n",
    "    def __init__(self , name):\n",
    "        self.name = name"
   ]
  },
  {
   "cell_type": "code",
   "execution_count": 38,
   "id": "654823c4",
   "metadata": {},
   "outputs": [],
   "source": [
    "class amit(girl_friend):\n",
    "    \n",
    "    def amit_name(self):\n",
    "        return self.name"
   ]
  },
  {
   "cell_type": "code",
   "execution_count": 39,
   "id": "66d07ae0",
   "metadata": {},
   "outputs": [],
   "source": [
    "class ajeet(girl_friend):\n",
    "    \n",
    "    def ajeet_name(self):\n",
    "        return self.name"
   ]
  },
  {
   "cell_type": "code",
   "execution_count": 40,
   "id": "b185b9db",
   "metadata": {},
   "outputs": [],
   "source": [
    "amit_object = amit(\"dimpal\")"
   ]
  },
  {
   "cell_type": "code",
   "execution_count": 41,
   "id": "10d39d96",
   "metadata": {},
   "outputs": [],
   "source": [
    "ajeet_object = ajeet('susmita')"
   ]
  },
  {
   "cell_type": "code",
   "execution_count": 42,
   "id": "657802d9",
   "metadata": {},
   "outputs": [
    {
     "data": {
      "text/plain": [
       "'dimpal'"
      ]
     },
     "execution_count": 42,
     "metadata": {},
     "output_type": "execute_result"
    }
   ],
   "source": [
    "amit_object.amit_name()"
   ]
  },
  {
   "cell_type": "code",
   "execution_count": 43,
   "id": "4a497c0b",
   "metadata": {},
   "outputs": [
    {
     "data": {
      "text/plain": [
       "'susmita'"
      ]
     },
     "execution_count": 43,
     "metadata": {},
     "output_type": "execute_result"
    }
   ],
   "source": [
    "ajeet_object.ajeet_name()"
   ]
  },
  {
   "cell_type": "code",
   "execution_count": null,
   "id": "1d09f979",
   "metadata": {},
   "outputs": [],
   "source": []
  }
 ],
 "metadata": {
  "kernelspec": {
   "display_name": "Python 3 (ipykernel)",
   "language": "python",
   "name": "python3"
  },
  "language_info": {
   "codemirror_mode": {
    "name": "ipython",
    "version": 3
   },
   "file_extension": ".py",
   "mimetype": "text/x-python",
   "name": "python",
   "nbconvert_exporter": "python",
   "pygments_lexer": "ipython3",
   "version": "3.9.13"
  }
 },
 "nbformat": 4,
 "nbformat_minor": 5
}
